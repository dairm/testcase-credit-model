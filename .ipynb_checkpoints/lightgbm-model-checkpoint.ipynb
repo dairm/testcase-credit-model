{
 "cells": [
  {
   "cell_type": "code",
   "execution_count": null,
   "id": "890e568a",
   "metadata": {},
   "outputs": [],
   "source": [
    "from sklearn.metrics import make_scorer, accuracy_score, precision_score, recall_score, f1_score,roc_auc_score\n",
    "model_cvs = lgb.LGBMClassifier(**{'boosting_type': 'gbdt',\n",
    "                                 'colsample_bytree': 1,\n",
    "                                 'learning_rate': 0.01,\n",
    "                                 'min_child_samples': 300,#100\n",
    "                                 'n_estimators': 500,\n",
    "                                'max_depth': 4,                                \n",
    "                                 'num_leaves': 25,#60\n",
    "                                 'subsample': 0.6,\n",
    "                                'scale_pos_weight':1\n",
    "                                      },n_jobs=30, metric=\"roc_auc\", seed=123)"
   ]
  }
 ],
 "metadata": {
  "kernelspec": {
   "display_name": "Python 3 (ipykernel)",
   "language": "python",
   "name": "python3"
  },
  "language_info": {
   "codemirror_mode": {
    "name": "ipython",
    "version": 3
   },
   "file_extension": ".py",
   "mimetype": "text/x-python",
   "name": "python",
   "nbconvert_exporter": "python",
   "pygments_lexer": "ipython3",
   "version": "3.9.12"
  }
 },
 "nbformat": 4,
 "nbformat_minor": 5
}
