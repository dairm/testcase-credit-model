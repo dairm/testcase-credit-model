{
 "cells": [
  {
   "cell_type": "code",
   "execution_count": 4,
   "id": "d14dcbab",
   "metadata": {},
   "outputs": [],
   "source": [
    "import pandas as pd\n",
    "import numpy as np\n",
    "from sklearn import metrics"
   ]
  },
  {
   "cell_type": "code",
   "execution_count": 5,
   "id": "a2f72936",
   "metadata": {},
   "outputs": [],
   "source": [
    "import lightgbm as lgb\n",
    "from sklearn.model_selection import GridSearchCV, train_test_split, StratifiedShuffleSplit, StratifiedKFold"
   ]
  },
  {
   "cell_type": "code",
   "execution_count": 6,
   "id": "da0adb96",
   "metadata": {},
   "outputs": [],
   "source": [
    "from sklearn.metrics import make_scorer, accuracy_score, precision_score, recall_score, f1_score,roc_auc_score\n",
    "model_cvs = lgb.LGBMClassifier(**{'boosting_type': 'gbdt',\n",
    "                                 'colsample_bytree': 1,\n",
    "                                 'learning_rate': 0.01,\n",
    "                                 'min_child_samples': 300,#100\n",
    "                                 'n_estimators': 500,\n",
    "                                'max_depth': 5,                                \n",
    "                                 'num_leaves': 25,#60\n",
    "                                 'subsample': 0.6,\n",
    "                                'scale_pos_weight':1\n",
    "                                      },n_jobs=1, metric=\"roc_auc\", seed=123)"
   ]
  },
  {
   "cell_type": "code",
   "execution_count": 7,
   "id": "41989430",
   "metadata": {},
   "outputs": [],
   "source": [
    "df = pd.read_csv(\"./dataset.csv\", low_memory=False)"
   ]
  },
  {
   "cell_type": "code",
   "execution_count": 8,
   "id": "8864a029",
   "metadata": {},
   "outputs": [],
   "source": [
    "X_train_base, X_test_base, y_train_base, y_test_base = train_test_split(\n",
    "    df.drop([\"client_id\", \"open_account_flg\"], axis=1), df[\"open_account_flg\"], test_size=0.33, random_state=42)"
   ]
  },
  {
   "cell_type": "code",
   "execution_count": 8,
   "id": "8894bdb9",
   "metadata": {},
   "outputs": [
    {
     "name": "stdout",
     "output_type": "stream",
     "text": [
      "binary roc train 0.7664090484174093\n",
      "binary roc 0.7514179253121489\n",
      "binary recall 0.05971998513195391\n",
      "binary f1 0.10924750679963736\n",
      "binary precision 0.6401062416998672\n",
      "+++++++++++++++++++++++++++++++++++++++\n",
      "binary roc train 0.7650526601924278\n",
      "binary roc 0.7547994156204474\n",
      "binary recall 0.05575517284103581\n",
      "binary f1 0.1026108767529358\n",
      "binary precision 0.6428571428571429\n",
      "+++++++++++++++++++++++++++++++++++++++\n",
      "binary roc train 0.7684018858247965\n",
      "binary roc 0.7487772911849271\n",
      "binary recall 0.05501177053648866\n",
      "binary f1 0.10074880871341046\n",
      "binary precision 0.5975773889636609\n",
      "+++++++++++++++++++++++++++++++++++++++\n"
     ]
    }
   ],
   "source": [
    "%matplotlib inline \n",
    "cv = StratifiedKFold(n_splits=3, shuffle=True,random_state=123)\n",
    "\n",
    "from sklearn.metrics import make_scorer, accuracy_score, precision_score, recall_score, f1_score,roc_auc_score\n",
    "X= X_train_base\n",
    "y = y_train_base\n",
    "sss = StratifiedShuffleSplit(train_size = 0.6, test_size=0.4, random_state=123,n_splits=3)\n",
    "import pandas as pd\n",
    "for train_idx, test_idx in sss.split(X, y):\n",
    "    \n",
    "    X_train, X_test, y_train, y_test = X.iloc[train_idx], X.iloc[test_idx], y.iloc[train_idx], y.iloc[test_idx]\n",
    "    model_cvs.fit(X_train, y_train)\n",
    "\n",
    "    y_pred = model_cvs.predict_proba(X_test)\n",
    "    train_ = model_cvs.predict_proba(X_train)\n",
    "    print(\"binary roc train\",roc_auc_score(y_train, train_[:,1]))\n",
    "    print(\"binary roc\",roc_auc_score(y_test, y_pred[:,1]))\n",
    "    y_pred = model_cvs.predict(X_test)\n",
    "    print(\"binary recall\",recall_score(y_test, y_pred))\n",
    "    print(\"binary f1\",f1_score(y_test, y_pred))\n",
    "    print(\"binary precision\",precision_score(y_test, y_pred))\n",
    "    print(\"+++++++++++++++++++++++++++++++++++++++\")"
   ]
  },
  {
   "cell_type": "code",
   "execution_count": 9,
   "id": "1efa0fb0",
   "metadata": {},
   "outputs": [
    {
     "name": "stdout",
     "output_type": "stream",
     "text": [
      "CPU times: user 2.59 s, sys: 49.6 ms, total: 2.64 s\n",
      "Wall time: 2.73 s\n"
     ]
    },
    {
     "data": {
      "text/plain": [
       "LGBMClassifier(colsample_bytree=1, learning_rate=0.01, max_depth=5,\n",
       "               metric='roc_auc', min_child_samples=300, n_estimators=500,\n",
       "               n_jobs=1, num_leaves=25, scale_pos_weight=1, seed=123,\n",
       "               subsample=0.6)"
      ]
     },
     "execution_count": 9,
     "metadata": {},
     "output_type": "execute_result"
    }
   ],
   "source": [
    "%%time\n",
    "model_cvs.fit(X_train_base, y_train_base)"
   ]
  },
  {
   "cell_type": "code",
   "execution_count": 30,
   "id": "03a9b518",
   "metadata": {},
   "outputs": [],
   "source": [
    "pred = model_cvs.predict_proba(X_test_base)[:,1]"
   ]
  },
  {
   "cell_type": "code",
   "execution_count": 31,
   "id": "6283b943",
   "metadata": {},
   "outputs": [
    {
     "data": {
      "text/plain": [
       "0.7565603150797457"
      ]
     },
     "execution_count": 31,
     "metadata": {},
     "output_type": "execute_result"
    }
   ],
   "source": [
    "fpr, tpr, thresholds = metrics.roc_curve(y_test_base, pred)\n",
    "metrics.auc(fpr, tpr)"
   ]
  },
  {
   "cell_type": "code",
   "execution_count": 34,
   "id": "90011468",
   "metadata": {},
   "outputs": [
    {
     "data": {
      "text/plain": [
       "<AxesSubplot:title={'center':'Feature importance'}, xlabel='Feature importance', ylabel='Features'>"
      ]
     },
     "execution_count": 34,
     "metadata": {},
     "output_type": "execute_result"
    },
    {
     "data": {
      "image/png": "[encoded data removed]",
      "text/plain": [
       "<Figure size 1080x360 with 1 Axes>"
      ]
     },
     "metadata": {
      "needs_background": "light"
     },
     "output_type": "display_data"
    }
   ],
   "source": [
    "lgb.plot_importance(model_cvs, max_num_features=20,figsize=(15,5), importance_type='split')"
   ]
  },
  {
   "cell_type": "code",
   "execution_count": 50,
   "id": "ad41e102",
   "metadata": {},
   "outputs": [],
   "source": [
    "def save_model(pathmodel, model):\n",
    "    import pickle\n",
    "\n",
    "    with open(pathmodel, \"wb\") as fout:\n",
    "        pickle.dump(model, fout)"
   ]
  },
  {
   "cell_type": "code",
   "execution_count": 51,
   "id": "05b4537f",
   "metadata": {},
   "outputs": [],
   "source": [
    "save_model(\"./models/lgb_model.pkl\", model_cvs)"
   ]
  },
  {
   "cell_type": "code",
   "execution_count": 54,
   "id": "7af4f680",
   "metadata": {},
   "outputs": [],
   "source": [
    "def load_model(pathmodel):\n",
    "    with open(pathmodel, \"rb\") as fin:\n",
    "        return pickle.load(fin)"
   ]
  },
  {
   "cell_type": "code",
   "execution_count": 55,
   "id": "168fa1b0",
   "metadata": {},
   "outputs": [],
   "source": [
    "m = load_model(\"models/lgb_model.pkl\")"
   ]
  },
  {
   "cell_type": "code",
   "execution_count": 47,
   "id": "00de11ec",
   "metadata": {},
   "outputs": [
    {
     "data": {
      "text/plain": [
       "array([0.2192062 , 0.31000724, 0.09411681, ..., 0.19581971, 0.04522769,\n",
       "       0.05135204])"
      ]
     },
     "execution_count": 47,
     "metadata": {},
     "output_type": "execute_result"
    }
   ],
   "source": [
    "m.predict_proba(X_test_base)[:,1]"
   ]
  },
  {
   "cell_type": "code",
   "execution_count": null,
   "id": "3d061865",
   "metadata": {},
   "outputs": [],
   "source": []
  }
 ],
 "metadata": {
  "kernelspec": {
   "display_name": "Python 3 (ipykernel)",
   "language": "python",
   "name": "python3"
  },
  "language_info": {
   "codemirror_mode": {
    "name": "ipython",
    "version": 3
   },
   "file_extension": ".py",
   "mimetype": "text/x-python",
   "name": "python",
   "nbconvert_exporter": "python",
   "pygments_lexer": "ipython3",
   "version": "3.9.12"
  }
 },
 "nbformat": 4,
 "nbformat_minor": 5
}
