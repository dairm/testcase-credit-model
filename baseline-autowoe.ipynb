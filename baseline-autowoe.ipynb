{
 "cells": [
  {
   "cell_type": "code",
   "execution_count": 1,
   "id": "1e7508a7",
   "metadata": {},
   "outputs": [],
   "source": [
    "import pandas as pd\n",
    "import numpy as np\n",
    "import lightgbm as lgb\n",
    "\n",
    "from collections import OrderedDict\n",
    "from sklearn.metrics import roc_auc_score\n",
    "from tqdm import tqdm\n",
    "from copy import deepcopy\n",
    "\n",
    "from autowoe import ReportDeco, AutoWoE\n",
    "\n",
    "from sklearn.metrics import mean_squared_error\n",
    "\n",
    "from sklearn.model_selection import train_test_split"
   ]
  },
  {
   "cell_type": "code",
   "execution_count": 3,
   "id": "327c9615",
   "metadata": {},
   "outputs": [],
   "source": [
    "df = pd.read_csv(\"./dataset.csv\", low_memory=False)"
   ]
  },
  {
   "cell_type": "code",
   "execution_count": 4,
   "id": "3a8bf348",
   "metadata": {},
   "outputs": [
    {
     "data": {
      "text/html": [
       "<div>\n",
       "<style scoped>\n",
       "    .dataframe tbody tr th:only-of-type {\n",
       "        vertical-align: middle;\n",
       "    }\n",
       "\n",
       "    .dataframe tbody tr th {\n",
       "        vertical-align: top;\n",
       "    }\n",
       "\n",
       "    .dataframe thead th {\n",
       "        text-align: right;\n",
       "    }\n",
       "</style>\n",
       "<table border=\"1\" class=\"dataframe\">\n",
       "  <thead>\n",
       "    <tr style=\"text-align: right;\">\n",
       "      <th></th>\n",
       "      <th>client_id</th>\n",
       "      <th>age</th>\n",
       "      <th>credit_sum</th>\n",
       "      <th>credit_month</th>\n",
       "      <th>tariff_id</th>\n",
       "      <th>score_shk</th>\n",
       "      <th>living_region</th>\n",
       "      <th>monthly_income</th>\n",
       "      <th>credit_count</th>\n",
       "      <th>overdue_credit_count</th>\n",
       "      <th>...</th>\n",
       "      <th>education_UGR</th>\n",
       "      <th>education_nan</th>\n",
       "      <th>latitude_mean</th>\n",
       "      <th>longitude_mean</th>\n",
       "      <th>durat_ttime_max</th>\n",
       "      <th>durat_ttime_min</th>\n",
       "      <th>durat_ttime_count</th>\n",
       "      <th>durat_ttime_mean</th>\n",
       "      <th>latitude</th>\n",
       "      <th>longitude</th>\n",
       "    </tr>\n",
       "  </thead>\n",
       "  <tbody>\n",
       "    <tr>\n",
       "      <th>0</th>\n",
       "      <td>1</td>\n",
       "      <td>48</td>\n",
       "      <td>59998.00</td>\n",
       "      <td>10</td>\n",
       "      <td>1.6</td>\n",
       "      <td>0.770249</td>\n",
       "      <td>91</td>\n",
       "      <td>30000.0</td>\n",
       "      <td>1.0</td>\n",
       "      <td>1.0</td>\n",
       "      <td>...</td>\n",
       "      <td>0</td>\n",
       "      <td>0</td>\n",
       "      <td>0.0</td>\n",
       "      <td>0.0</td>\n",
       "      <td>0.0</td>\n",
       "      <td>0.0</td>\n",
       "      <td>0.0</td>\n",
       "      <td>0.0</td>\n",
       "      <td>0.0</td>\n",
       "      <td>0.0</td>\n",
       "    </tr>\n",
       "    <tr>\n",
       "      <th>1</th>\n",
       "      <td>2</td>\n",
       "      <td>28</td>\n",
       "      <td>10889.00</td>\n",
       "      <td>6</td>\n",
       "      <td>1.1</td>\n",
       "      <td>0.248514</td>\n",
       "      <td>105</td>\n",
       "      <td>43000.0</td>\n",
       "      <td>2.0</td>\n",
       "      <td>0.0</td>\n",
       "      <td>...</td>\n",
       "      <td>0</td>\n",
       "      <td>0</td>\n",
       "      <td>0.0</td>\n",
       "      <td>0.0</td>\n",
       "      <td>0.0</td>\n",
       "      <td>0.0</td>\n",
       "      <td>0.0</td>\n",
       "      <td>0.0</td>\n",
       "      <td>0.0</td>\n",
       "      <td>0.0</td>\n",
       "    </tr>\n",
       "    <tr>\n",
       "      <th>2</th>\n",
       "      <td>3</td>\n",
       "      <td>32</td>\n",
       "      <td>10728.00</td>\n",
       "      <td>12</td>\n",
       "      <td>1.1</td>\n",
       "      <td>0.459589</td>\n",
       "      <td>156</td>\n",
       "      <td>23000.0</td>\n",
       "      <td>5.0</td>\n",
       "      <td>0.0</td>\n",
       "      <td>...</td>\n",
       "      <td>0</td>\n",
       "      <td>0</td>\n",
       "      <td>0.0</td>\n",
       "      <td>0.0</td>\n",
       "      <td>0.0</td>\n",
       "      <td>0.0</td>\n",
       "      <td>0.0</td>\n",
       "      <td>0.0</td>\n",
       "      <td>0.0</td>\n",
       "      <td>0.0</td>\n",
       "    </tr>\n",
       "    <tr>\n",
       "      <th>3</th>\n",
       "      <td>4</td>\n",
       "      <td>27</td>\n",
       "      <td>12009.09</td>\n",
       "      <td>12</td>\n",
       "      <td>1.1</td>\n",
       "      <td>0.362536</td>\n",
       "      <td>128</td>\n",
       "      <td>17000.0</td>\n",
       "      <td>2.0</td>\n",
       "      <td>0.0</td>\n",
       "      <td>...</td>\n",
       "      <td>0</td>\n",
       "      <td>0</td>\n",
       "      <td>0.0</td>\n",
       "      <td>0.0</td>\n",
       "      <td>0.0</td>\n",
       "      <td>0.0</td>\n",
       "      <td>0.0</td>\n",
       "      <td>0.0</td>\n",
       "      <td>0.0</td>\n",
       "      <td>0.0</td>\n",
       "    </tr>\n",
       "    <tr>\n",
       "      <th>4</th>\n",
       "      <td>5</td>\n",
       "      <td>45</td>\n",
       "      <td>16908.89</td>\n",
       "      <td>10</td>\n",
       "      <td>1.1</td>\n",
       "      <td>0.421385</td>\n",
       "      <td>287</td>\n",
       "      <td>25000.0</td>\n",
       "      <td>1.0</td>\n",
       "      <td>0.0</td>\n",
       "      <td>...</td>\n",
       "      <td>0</td>\n",
       "      <td>0</td>\n",
       "      <td>0.0</td>\n",
       "      <td>0.0</td>\n",
       "      <td>0.0</td>\n",
       "      <td>0.0</td>\n",
       "      <td>0.0</td>\n",
       "      <td>0.0</td>\n",
       "      <td>0.0</td>\n",
       "      <td>0.0</td>\n",
       "    </tr>\n",
       "  </tbody>\n",
       "</table>\n",
       "<p>5 rows × 53 columns</p>\n",
       "</div>"
      ],
      "text/plain": [
       "   client_id  age  credit_sum  credit_month  tariff_id  score_shk  \\\n",
       "0          1   48    59998.00            10        1.6   0.770249   \n",
       "1          2   28    10889.00             6        1.1   0.248514   \n",
       "2          3   32    10728.00            12        1.1   0.459589   \n",
       "3          4   27    12009.09            12        1.1   0.362536   \n",
       "4          5   45    16908.89            10        1.1   0.421385   \n",
       "\n",
       "   living_region  monthly_income  credit_count  overdue_credit_count  ...  \\\n",
       "0             91         30000.0           1.0                   1.0  ...   \n",
       "1            105         43000.0           2.0                   0.0  ...   \n",
       "2            156         23000.0           5.0                   0.0  ...   \n",
       "3            128         17000.0           2.0                   0.0  ...   \n",
       "4            287         25000.0           1.0                   0.0  ...   \n",
       "\n",
       "   education_UGR  education_nan  latitude_mean  longitude_mean  \\\n",
       "0              0              0            0.0             0.0   \n",
       "1              0              0            0.0             0.0   \n",
       "2              0              0            0.0             0.0   \n",
       "3              0              0            0.0             0.0   \n",
       "4              0              0            0.0             0.0   \n",
       "\n",
       "   durat_ttime_max  durat_ttime_min  durat_ttime_count  durat_ttime_mean  \\\n",
       "0              0.0              0.0                0.0               0.0   \n",
       "1              0.0              0.0                0.0               0.0   \n",
       "2              0.0              0.0                0.0               0.0   \n",
       "3              0.0              0.0                0.0               0.0   \n",
       "4              0.0              0.0                0.0               0.0   \n",
       "\n",
       "   latitude  longitude  \n",
       "0       0.0        0.0  \n",
       "1       0.0        0.0  \n",
       "2       0.0        0.0  \n",
       "3       0.0        0.0  \n",
       "4       0.0        0.0  \n",
       "\n",
       "[5 rows x 53 columns]"
      ]
     },
     "execution_count": 4,
     "metadata": {},
     "output_type": "execute_result"
    }
   ],
   "source": [
    "df.head()"
   ]
  },
  {
   "cell_type": "code",
   "execution_count": 5,
   "id": "7f3f5943",
   "metadata": {},
   "outputs": [],
   "source": [
    "X_train, X_test, y_train, y_test = train_test_split(\n",
    "    df.drop([\"client_id\", \"open_account_flg\"], axis=1), df[\"open_account_flg\"], test_size=0.33, random_state=42)"
   ]
  },
  {
   "cell_type": "code",
   "execution_count": 9,
   "id": "0ac6565c",
   "metadata": {},
   "outputs": [],
   "source": [
    "auto_woe = AutoWoE(n_jobs=1)\n",
    "auto_woe = ReportDeco(auto_woe)"
   ]
  },
  {
   "cell_type": "code",
   "execution_count": 7,
   "id": "3b315585",
   "metadata": {},
   "outputs": [],
   "source": [
    "X_train[\"TARGET\"] = y_train\n",
    "X_test[\"TARGET\"] = y_test"
   ]
  },
  {
   "cell_type": "code",
   "execution_count": 10,
   "id": "4da40233",
   "metadata": {},
   "outputs": [
    {
     "name": "stdout",
     "output_type": "stream",
     "text": [
      "[LightGBM] [Info] Number of positive: 16119, number of negative: 75400\n",
      "[LightGBM] [Warning] Auto-choosing row-wise multi-threading, the overhead of testing was 0.006160 seconds.\n",
      "You can set `force_row_wise=true` to remove the overhead.\n",
      "And if memory is not enough, you can set `force_col_wise=true`.\n",
      "[LightGBM] [Info] Total Bins 1885\n",
      "[LightGBM] [Info] Number of data points in the train set: 91519, number of used features: 31\n",
      "[LightGBM] [Info] [binary:BoostFromScore]: pavg=0.176127 -> initscore=-1.542809\n",
      "[LightGBM] [Info] Start training from score -1.542809\n",
      "age processing...\n",
      "credit_sum processing...\n",
      "credit_month processing...\n",
      "tariff_id processing...\n",
      "score_shk processing...\n",
      "living_region processing...\n",
      "monthly_income processing...\n",
      "credit_count processing...\n",
      "overdue_credit_count processing...\n",
      "gender_F processing...\n",
      "gender_M processing...\n",
      "marital_status_CIV processing...\n",
      "marital_status_DIV processing...\n",
      "marital_status_MAR processing...\n",
      "marital_status_UNM processing...\n",
      "marital_status_WID processing...\n",
      "job_position_ATP processing...\n",
      "job_position_BIS processing...\n",
      "job_position_DIR processing...\n",
      "job_position_PNA processing...\n",
      "job_position_SPC processing...\n",
      "job_position_UMN processing...\n",
      "education_GRD processing...\n",
      "education_SCH processing...\n",
      "education_UGR processing...\n",
      "latitude_mean processing...\n",
      "longitude_mean processing...\n",
      "durat_ttime_max processing...\n",
      "durat_ttime_min processing...\n",
      "durat_ttime_count processing...\n",
      "durat_ttime_mean processing...\n",
      "dict_keys(['age', 'credit_sum', 'credit_month', 'tariff_id', 'score_shk', 'living_region', 'monthly_income', 'credit_count', 'overdue_credit_count', 'gender_F', 'gender_M', 'marital_status_CIV', 'marital_status_DIV', 'marital_status_MAR', 'marital_status_UNM', 'marital_status_WID', 'job_position_ATP', 'job_position_BIS', 'job_position_DIR', 'job_position_PNA', 'job_position_SPC', 'job_position_UMN', 'education_GRD', 'education_SCH', 'education_UGR', 'latitude_mean', 'longitude_mean', 'durat_ttime_max', 'durat_ttime_min', 'durat_ttime_count', 'durat_ttime_mean']) to selector !!!!!\n",
      "Feature selection...\n",
      "tariff_id            -1.293046\n",
      "credit_month         -1.243952\n",
      "credit_sum           -0.593555\n",
      "education_SCH        -0.655881\n",
      "age                  -0.839685\n",
      "marital_status_MAR   -0.648012\n",
      "marital_status_UNM   -0.030375\n",
      "score_shk            -1.314003\n",
      "credit_count         -0.297202\n",
      "living_region        -0.672387\n",
      "gender_F             -1.073980\n",
      "job_position_SPC     -0.567185\n",
      "job_position_PNA     -0.497249\n",
      "job_position_ATP     -0.127529\n",
      "dtype: float64\n"
     ]
    }
   ],
   "source": [
    "auto_woe.fit(\n",
    "    X_train,\n",
    "    target_name=\"TARGET\",\n",
    "    validation=X_test\n",
    ")"
   ]
  },
  {
   "cell_type": "code",
   "execution_count": 23,
   "id": "52a9fba2",
   "metadata": {},
   "outputs": [],
   "source": [
    "pred = auto_woe.predict_proba(X_test)"
   ]
  },
  {
   "cell_type": "code",
   "execution_count": 24,
   "id": "27c21705",
   "metadata": {},
   "outputs": [
    {
     "name": "stderr",
     "output_type": "stream",
     "text": [
      "No artists with labels found to put in legend.  Note that artists whose label start with an underscore are ignored when legend() is called with no argument.\n",
      "No artists with labels found to put in legend.  Note that artists whose label start with an underscore are ignored when legend() is called with no argument.\n",
      "No artists with labels found to put in legend.  Note that artists whose label start with an underscore are ignored when legend() is called with no argument.\n",
      "No artists with labels found to put in legend.  Note that artists whose label start with an underscore are ignored when legend() is called with no argument.\n",
      "No artists with labels found to put in legend.  Note that artists whose label start with an underscore are ignored when legend() is called with no argument.\n",
      "No artists with labels found to put in legend.  Note that artists whose label start with an underscore are ignored when legend() is called with no argument.\n",
      "No artists with labels found to put in legend.  Note that artists whose label start with an underscore are ignored when legend() is called with no argument.\n",
      "No artists with labels found to put in legend.  Note that artists whose label start with an underscore are ignored when legend() is called with no argument.\n",
      "No artists with labels found to put in legend.  Note that artists whose label start with an underscore are ignored when legend() is called with no argument.\n",
      "No artists with labels found to put in legend.  Note that artists whose label start with an underscore are ignored when legend() is called with no argument.\n",
      "No artists with labels found to put in legend.  Note that artists whose label start with an underscore are ignored when legend() is called with no argument.\n",
      "No artists with labels found to put in legend.  Note that artists whose label start with an underscore are ignored when legend() is called with no argument.\n",
      "No artists with labels found to put in legend.  Note that artists whose label start with an underscore are ignored when legend() is called with no argument.\n",
      "No artists with labels found to put in legend.  Note that artists whose label start with an underscore are ignored when legend() is called with no argument.\n",
      "No artists with labels found to put in legend.  Note that artists whose label start with an underscore are ignored when legend() is called with no argument.\n"
     ]
    }
   ],
   "source": [
    "report_params = {\"output_path\": \"./reports\", # папка, куда сгенерится отчет и сложатся нужные файлы\n",
    "                 \"report_name\": \"BASELINE\",\n",
    "                 \"report_version_id\": 1,\n",
    "                 \"city\": \"Almaty\",\n",
    "                 \"model_name\": \"credit_model\",\n",
    "                 \"zakazchik\": \"test\",\n",
    "                 \"model_aim\": \"baseline\",\n",
    "                 \"model_name\": \"baseline_logreg\",\n",
    "                 \"high_level_department\": \"1\",\n",
    "                 \"ds_name\": \"1\",\n",
    "                 \"target_descr\": \"1\",\n",
    "                 \"non_target_descr\": \"1\"\n",
    "                }\n",
    "\n",
    "auto_woe.generate_report(report_params)"
   ]
  },
  {
   "cell_type": "code",
   "execution_count": 29,
   "id": "b738a14a",
   "metadata": {},
   "outputs": [],
   "source": [
    "from sklearn.metrics import f1_score\n",
    "import numpy as np\n",
    "\n",
    "def to_labels(pos_probs, threshold):\n",
    "        return (pos_probs >= threshold).astype('int')\n",
    "    \n",
    "def get_optimal_threshold(model, df, step=0.001, booster=False):\n",
    "    thresholds = np.arange(0, 1, step)\n",
    "    y = y_test\n",
    "    probs = model.predict_proba(X_test)\n",
    "    scores = [f1_score(y, to_labels(probs, t)) for t in thresholds]\n",
    "    ix = np.argmax(scores)\n",
    "    print('Threshold=%.3f, F-Score=%.5f' % (thresholds[ix], scores[ix]))\n",
    "    return thresholds[ix], scores[ix]"
   ]
  },
  {
   "cell_type": "code",
   "execution_count": 30,
   "id": "35e43dc2",
   "metadata": {},
   "outputs": [
    {
     "name": "stdout",
     "output_type": "stream",
     "text": [
      "Threshold=0.209, F-Score=0.43189\n"
     ]
    }
   ],
   "source": [
    "threshold, _ = get_optimal_threshold(auto_woe, X_test)"
   ]
  },
  {
   "cell_type": "code",
   "execution_count": 31,
   "id": "b964534e",
   "metadata": {},
   "outputs": [],
   "source": [
    "def save_model(pathmodel, model):\n",
    "    import pickle\n",
    "\n",
    "    with open(pathmodel, \"wb\") as fout:\n",
    "        pickle.dump(model, fout)"
   ]
  },
  {
   "cell_type": "code",
   "execution_count": 54,
   "id": "b55ddeb6",
   "metadata": {},
   "outputs": [],
   "source": [
    "save_model(\"./models/auto_woe.pkl\", auto_woe.model)"
   ]
  },
  {
   "cell_type": "code",
   "execution_count": 46,
   "id": "8cf3ea02",
   "metadata": {},
   "outputs": [],
   "source": [
    "test_set = pd.read_csv(\"dataset_credit_test.csv\")"
   ]
  },
  {
   "cell_type": "code",
   "execution_count": 2,
   "id": "df75f752",
   "metadata": {},
   "outputs": [
    {
     "ename": "NameError",
     "evalue": "name 'm' is not defined",
     "output_type": "error",
     "traceback": [
      "\u001b[0;31m---------------------------------------------------------------------------\u001b[0m",
      "\u001b[0;31mNameError\u001b[0m                                 Traceback (most recent call last)",
      "Input \u001b[0;32mIn [2]\u001b[0m, in \u001b[0;36m<cell line: 1>\u001b[0;34m()\u001b[0m\n\u001b[0;32m----> 1\u001b[0m \u001b[43mm\u001b[49m\u001b[38;5;241m.\u001b[39mpredict_proba(test_set)\n",
      "\u001b[0;31mNameError\u001b[0m: name 'm' is not defined"
     ]
    }
   ],
   "source": [
    "m.predict_proba(test_set)"
   ]
  },
  {
   "cell_type": "code",
   "execution_count": 50,
   "id": "9c9273d8",
   "metadata": {},
   "outputs": [],
   "source": [
    "import pickle\n",
    "def load_model(pathmodel):\n",
    "    with open(pathmodel, \"rb\") as fin:\n",
    "        return pickle.load(fin)"
   ]
  },
  {
   "cell_type": "code",
   "execution_count": 55,
   "id": "82a81d3e",
   "metadata": {},
   "outputs": [],
   "source": [
    "m = load_model(\"models/auto_woe.pkl\")"
   ]
  },
  {
   "cell_type": "code",
   "execution_count": null,
   "id": "6124f0ea",
   "metadata": {},
   "outputs": [],
   "source": []
  }
 ],
 "metadata": {
  "kernelspec": {
   "display_name": "Python 3 (ipykernel)",
   "language": "python",
   "name": "python3"
  },
  "language_info": {
   "codemirror_mode": {
    "name": "ipython",
    "version": 3
   },
   "file_extension": ".py",
   "mimetype": "text/x-python",
   "name": "python",
   "nbconvert_exporter": "python",
   "pygments_lexer": "ipython3",
   "version": "3.9.12"
  }
 },
 "nbformat": 4,
 "nbformat_minor": 5
}
